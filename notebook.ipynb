{
 "cells": [
  {
   "cell_type": "code",
   "execution_count": 4,
   "metadata": {},
   "outputs": [],
   "source": [
    "# check whether or not there's a possibility to use parts of the title to search the pubmed repo"
   ]
  },
  {
   "cell_type": "code",
   "execution_count": 2,
   "metadata": {},
   "outputs": [],
   "source": [
    "from scholarly import scholarly\n",
    "import json\n",
    "import pandas as pd\n",
    "import math"
   ]
  },
  {
   "cell_type": "code",
   "execution_count": 3,
   "metadata": {},
   "outputs": [],
   "source": [
    "import spacy\n",
    "from serpapi import GoogleScholarSearch\n",
    "#nlp = spacy.load(\"en_core_web_lg\")\n",
    "nlp = spacy.load(\"en_core_web_md\")"
   ]
  },
  {
   "cell_type": "markdown",
   "metadata": {},
   "source": [
    "### get more credits so you can test this for all that aren't linked"
   ]
  },
  {
   "cell_type": "markdown",
   "metadata": {},
   "source": [
    "# How do we go from here?\n",
    "basically search using investigator name and the title and look for the distance from the title. Only accept a percentage be ok."
   ]
  },
  {
   "cell_type": "markdown",
   "metadata": {},
   "source": [
    "f0b71f62628251c780b9acef7d5c76b9ec6059d8352b34d9a4cde13030548251"
   ]
  },
  {
   "cell_type": "markdown",
   "metadata": {},
   "source": [
    "list of titles from the clinicaltrials.gov data."
   ]
  },
  {
   "cell_type": "code",
   "execution_count": 36,
   "metadata": {},
   "outputs": [],
   "source": [
    "df=pd.read_csv('./trial-records_edited.csv')\n",
    "df=df[df['publications_PMID'].isnull()]\n",
    "\n",
    "mylist=list(df.official_title)\n",
    "\n",
    "newlist = [x for x in mylist if pd.isnull(x) == False and x != 'nan']"
   ]
  },
  {
   "cell_type": "code",
   "execution_count": 37,
   "metadata": {},
   "outputs": [
    {
     "data": {
      "text/plain": [
       "85"
      ]
     },
     "execution_count": 37,
     "metadata": {},
     "output_type": "execute_result"
    }
   ],
   "source": [
    "len(newlist)"
   ]
  },
  {
   "cell_type": "code",
   "execution_count": 7,
   "metadata": {},
   "outputs": [],
   "source": [
    "listofpublicationtitles=[]\n",
    "\n",
    "def serpapi_get_naver_organic_results(search_quer):\n",
    "    params = {\n",
    "        # https://docs.python.org/3/library/os.html#os.getenv\n",
    "        \"api_key\": \"f0b71f62628251c780b9acef7d5c76b9ec6059d8352b34d9a4cde13030548251\", # your serpapi api key\n",
    "        \"engine\": \"google_scholar\",     # search engine (Google, Bing, DuckDuckGo..)\n",
    "        \"q\": search_quer,  # search query\n",
    "        \"where\": \"web\"         # organic results\n",
    "    }\n",
    "\n",
    "    search = GoogleScholarSearch(params)\n",
    "    results = search.get_dict()\n",
    "    return results\n",
    "\n",
    "#results=serpapi_get_naver_organic_results('Ioannidis')['organic_results'][0]"
   ]
  },
  {
   "cell_type": "code",
   "execution_count": 38,
   "metadata": {},
   "outputs": [
    {
     "name": "stdout",
     "output_type": "stream",
     "text": [
      "https://serpapi.com/search\n",
      "<class 'dict'>\n",
      "https://serpapi.com/search\n",
      "<class 'dict'>\n",
      "https://serpapi.com/search\n",
      "<class 'dict'>\n",
      "https://serpapi.com/search\n",
      "<class 'dict'>\n",
      "https://serpapi.com/search\n",
      "<class 'dict'>\n",
      "https://serpapi.com/search\n",
      "<class 'dict'>\n",
      "https://serpapi.com/search\n",
      "<class 'dict'>\n",
      "https://serpapi.com/search\n",
      "<class 'dict'>\n",
      "https://serpapi.com/search\n",
      "<class 'dict'>\n",
      "https://serpapi.com/search\n",
      "<class 'dict'>\n",
      "https://serpapi.com/search\n",
      "<class 'dict'>\n",
      "https://serpapi.com/search\n",
      "<class 'dict'>\n",
      "https://serpapi.com/search\n",
      "<class 'dict'>\n",
      "https://serpapi.com/search\n",
      "<class 'dict'>\n",
      "https://serpapi.com/search\n"
     ]
    },
    {
     "ename": "KeyboardInterrupt",
     "evalue": "",
     "output_type": "error",
     "traceback": [
      "\u001b[0;31m---------------------------------------------------------------------------\u001b[0m",
      "\u001b[0;31mKeyboardInterrupt\u001b[0m                         Traceback (most recent call last)",
      "\u001b[1;32m/Users/emmanuel/Desktop/testrun code publications/notebook.ipynb Cell 11'\u001b[0m in \u001b[0;36m<cell line: 3>\u001b[0;34m()\u001b[0m\n\u001b[1;32m      <a href='vscode-notebook-cell:/Users/emmanuel/Desktop/testrun%20code%20publications/notebook.ipynb#ch0000010?line=0'>1</a>\u001b[0m data\u001b[39m=\u001b[39m[]\n\u001b[1;32m      <a href='vscode-notebook-cell:/Users/emmanuel/Desktop/testrun%20code%20publications/notebook.ipynb#ch0000010?line=2'>3</a>\u001b[0m \u001b[39mfor\u001b[39;00m i \u001b[39min\u001b[39;00m newlist:\n\u001b[0;32m----> <a href='vscode-notebook-cell:/Users/emmanuel/Desktop/testrun%20code%20publications/notebook.ipynb#ch0000010?line=3'>4</a>\u001b[0m     k\u001b[39m=\u001b[39mserpapi_get_naver_organic_results(i) \u001b[39m# look at organic thing\u001b[39;00m\n\u001b[1;32m      <a href='vscode-notebook-cell:/Users/emmanuel/Desktop/testrun%20code%20publications/notebook.ipynb#ch0000010?line=4'>5</a>\u001b[0m     \u001b[39mprint\u001b[39m(\u001b[39mtype\u001b[39m(k))\n\u001b[1;32m      <a href='vscode-notebook-cell:/Users/emmanuel/Desktop/testrun%20code%20publications/notebook.ipynb#ch0000010?line=6'>7</a>\u001b[0m     \u001b[39mtry\u001b[39;00m:\n",
      "\u001b[1;32m/Users/emmanuel/Desktop/testrun code publications/notebook.ipynb Cell 10'\u001b[0m in \u001b[0;36mserpapi_get_naver_organic_results\u001b[0;34m(search_quer)\u001b[0m\n\u001b[1;32m      <a href='vscode-notebook-cell:/Users/emmanuel/Desktop/testrun%20code%20publications/notebook.ipynb#ch0000009?line=3'>4</a>\u001b[0m params \u001b[39m=\u001b[39m {\n\u001b[1;32m      <a href='vscode-notebook-cell:/Users/emmanuel/Desktop/testrun%20code%20publications/notebook.ipynb#ch0000009?line=4'>5</a>\u001b[0m     \u001b[39m# https://docs.python.org/3/library/os.html#os.getenv\u001b[39;00m\n\u001b[1;32m      <a href='vscode-notebook-cell:/Users/emmanuel/Desktop/testrun%20code%20publications/notebook.ipynb#ch0000009?line=5'>6</a>\u001b[0m     \u001b[39m\"\u001b[39m\u001b[39mapi_key\u001b[39m\u001b[39m\"\u001b[39m: \u001b[39m\"\u001b[39m\u001b[39mf0b71f62628251c780b9acef7d5c76b9ec6059d8352b34d9a4cde13030548251\u001b[39m\u001b[39m\"\u001b[39m, \u001b[39m# your serpapi api key\u001b[39;00m\n\u001b[0;32m   (...)\u001b[0m\n\u001b[1;32m      <a href='vscode-notebook-cell:/Users/emmanuel/Desktop/testrun%20code%20publications/notebook.ipynb#ch0000009?line=8'>9</a>\u001b[0m     \u001b[39m\"\u001b[39m\u001b[39mwhere\u001b[39m\u001b[39m\"\u001b[39m: \u001b[39m\"\u001b[39m\u001b[39mweb\u001b[39m\u001b[39m\"\u001b[39m         \u001b[39m# organic results\u001b[39;00m\n\u001b[1;32m     <a href='vscode-notebook-cell:/Users/emmanuel/Desktop/testrun%20code%20publications/notebook.ipynb#ch0000009?line=9'>10</a>\u001b[0m }\n\u001b[1;32m     <a href='vscode-notebook-cell:/Users/emmanuel/Desktop/testrun%20code%20publications/notebook.ipynb#ch0000009?line=11'>12</a>\u001b[0m search \u001b[39m=\u001b[39m GoogleScholarSearch(params)\n\u001b[0;32m---> <a href='vscode-notebook-cell:/Users/emmanuel/Desktop/testrun%20code%20publications/notebook.ipynb#ch0000009?line=12'>13</a>\u001b[0m results \u001b[39m=\u001b[39m search\u001b[39m.\u001b[39;49mget_dict()\n\u001b[1;32m     <a href='vscode-notebook-cell:/Users/emmanuel/Desktop/testrun%20code%20publications/notebook.ipynb#ch0000009?line=13'>14</a>\u001b[0m \u001b[39mreturn\u001b[39;00m results\n",
      "File \u001b[0;32m~/opt/anaconda3/envs/transparency/lib/python3.10/site-packages/serpapi/serp_api_client.py:103\u001b[0m, in \u001b[0;36mSerpApiClient.get_dict\u001b[0;34m(self)\u001b[0m\n\u001b[1;32m     <a href='file:///Users/emmanuel/opt/anaconda3/envs/transparency/lib/python3.10/site-packages/serpapi/serp_api_client.py?line=97'>98</a>\u001b[0m \u001b[39mdef\u001b[39;00m \u001b[39mget_dict\u001b[39m(\u001b[39mself\u001b[39m):\n\u001b[1;32m     <a href='file:///Users/emmanuel/opt/anaconda3/envs/transparency/lib/python3.10/site-packages/serpapi/serp_api_client.py?line=98'>99</a>\u001b[0m     \u001b[39m\"\"\"Returns:\u001b[39;00m\n\u001b[1;32m    <a href='file:///Users/emmanuel/opt/anaconda3/envs/transparency/lib/python3.10/site-packages/serpapi/serp_api_client.py?line=99'>100</a>\u001b[0m \u001b[39m        Dict with the formatted response content\u001b[39;00m\n\u001b[1;32m    <a href='file:///Users/emmanuel/opt/anaconda3/envs/transparency/lib/python3.10/site-packages/serpapi/serp_api_client.py?line=100'>101</a>\u001b[0m \u001b[39m        (alias for get_dictionary)\u001b[39;00m\n\u001b[1;32m    <a href='file:///Users/emmanuel/opt/anaconda3/envs/transparency/lib/python3.10/site-packages/serpapi/serp_api_client.py?line=101'>102</a>\u001b[0m \u001b[39m    \"\"\"\u001b[39;00m\n\u001b[0;32m--> <a href='file:///Users/emmanuel/opt/anaconda3/envs/transparency/lib/python3.10/site-packages/serpapi/serp_api_client.py?line=102'>103</a>\u001b[0m     \u001b[39mreturn\u001b[39;00m \u001b[39mself\u001b[39;49m\u001b[39m.\u001b[39;49mget_dictionary()\n",
      "File \u001b[0;32m~/opt/anaconda3/envs/transparency/lib/python3.10/site-packages/serpapi/serp_api_client.py:96\u001b[0m, in \u001b[0;36mSerpApiClient.get_dictionary\u001b[0;34m(self)\u001b[0m\n\u001b[1;32m     <a href='file:///Users/emmanuel/opt/anaconda3/envs/transparency/lib/python3.10/site-packages/serpapi/serp_api_client.py?line=91'>92</a>\u001b[0m \u001b[39mdef\u001b[39;00m \u001b[39mget_dictionary\u001b[39m(\u001b[39mself\u001b[39m):\n\u001b[1;32m     <a href='file:///Users/emmanuel/opt/anaconda3/envs/transparency/lib/python3.10/site-packages/serpapi/serp_api_client.py?line=92'>93</a>\u001b[0m     \u001b[39m\"\"\"Returns:\u001b[39;00m\n\u001b[1;32m     <a href='file:///Users/emmanuel/opt/anaconda3/envs/transparency/lib/python3.10/site-packages/serpapi/serp_api_client.py?line=93'>94</a>\u001b[0m \u001b[39m        Dict with the formatted response content\u001b[39;00m\n\u001b[1;32m     <a href='file:///Users/emmanuel/opt/anaconda3/envs/transparency/lib/python3.10/site-packages/serpapi/serp_api_client.py?line=94'>95</a>\u001b[0m \u001b[39m    \"\"\"\u001b[39;00m\n\u001b[0;32m---> <a href='file:///Users/emmanuel/opt/anaconda3/envs/transparency/lib/python3.10/site-packages/serpapi/serp_api_client.py?line=95'>96</a>\u001b[0m     \u001b[39mreturn\u001b[39;00m \u001b[39mdict\u001b[39m(\u001b[39mself\u001b[39;49m\u001b[39m.\u001b[39;49mget_json())\n",
      "File \u001b[0;32m~/opt/anaconda3/envs/transparency/lib/python3.10/site-packages/serpapi/serp_api_client.py:83\u001b[0m, in \u001b[0;36mSerpApiClient.get_json\u001b[0;34m(self)\u001b[0m\n\u001b[1;32m     <a href='file:///Users/emmanuel/opt/anaconda3/envs/transparency/lib/python3.10/site-packages/serpapi/serp_api_client.py?line=78'>79</a>\u001b[0m \u001b[39m\"\"\"Returns:\u001b[39;00m\n\u001b[1;32m     <a href='file:///Users/emmanuel/opt/anaconda3/envs/transparency/lib/python3.10/site-packages/serpapi/serp_api_client.py?line=79'>80</a>\u001b[0m \u001b[39m    Formatted JSON search results using json package\u001b[39;00m\n\u001b[1;32m     <a href='file:///Users/emmanuel/opt/anaconda3/envs/transparency/lib/python3.10/site-packages/serpapi/serp_api_client.py?line=80'>81</a>\u001b[0m \u001b[39m\"\"\"\u001b[39;00m\n\u001b[1;32m     <a href='file:///Users/emmanuel/opt/anaconda3/envs/transparency/lib/python3.10/site-packages/serpapi/serp_api_client.py?line=81'>82</a>\u001b[0m \u001b[39mself\u001b[39m\u001b[39m.\u001b[39mparams_dict[\u001b[39m\"\u001b[39m\u001b[39moutput\u001b[39m\u001b[39m\"\u001b[39m] \u001b[39m=\u001b[39m \u001b[39m\"\u001b[39m\u001b[39mjson\u001b[39m\u001b[39m\"\u001b[39m\n\u001b[0;32m---> <a href='file:///Users/emmanuel/opt/anaconda3/envs/transparency/lib/python3.10/site-packages/serpapi/serp_api_client.py?line=82'>83</a>\u001b[0m \u001b[39mreturn\u001b[39;00m json\u001b[39m.\u001b[39mloads(\u001b[39mself\u001b[39;49m\u001b[39m.\u001b[39;49mget_results())\n",
      "File \u001b[0;32m~/opt/anaconda3/envs/transparency/lib/python3.10/site-packages/serpapi/serp_api_client.py:70\u001b[0m, in \u001b[0;36mSerpApiClient.get_results\u001b[0;34m(self, path)\u001b[0m\n\u001b[1;32m     <a href='file:///Users/emmanuel/opt/anaconda3/envs/transparency/lib/python3.10/site-packages/serpapi/serp_api_client.py?line=65'>66</a>\u001b[0m \u001b[39mdef\u001b[39;00m \u001b[39mget_results\u001b[39m(\u001b[39mself\u001b[39m, path\u001b[39m=\u001b[39m\u001b[39m'\u001b[39m\u001b[39m/search\u001b[39m\u001b[39m'\u001b[39m):\n\u001b[1;32m     <a href='file:///Users/emmanuel/opt/anaconda3/envs/transparency/lib/python3.10/site-packages/serpapi/serp_api_client.py?line=66'>67</a>\u001b[0m     \u001b[39m\"\"\"Returns:\u001b[39;00m\n\u001b[1;32m     <a href='file:///Users/emmanuel/opt/anaconda3/envs/transparency/lib/python3.10/site-packages/serpapi/serp_api_client.py?line=67'>68</a>\u001b[0m \u001b[39m        Response text field\u001b[39;00m\n\u001b[1;32m     <a href='file:///Users/emmanuel/opt/anaconda3/envs/transparency/lib/python3.10/site-packages/serpapi/serp_api_client.py?line=68'>69</a>\u001b[0m \u001b[39m    \"\"\"\u001b[39;00m\n\u001b[0;32m---> <a href='file:///Users/emmanuel/opt/anaconda3/envs/transparency/lib/python3.10/site-packages/serpapi/serp_api_client.py?line=69'>70</a>\u001b[0m     \u001b[39mreturn\u001b[39;00m \u001b[39mself\u001b[39;49m\u001b[39m.\u001b[39;49mget_response(path)\u001b[39m.\u001b[39mtext\n",
      "File \u001b[0;32m~/opt/anaconda3/envs/transparency/lib/python3.10/site-packages/serpapi/serp_api_client.py:59\u001b[0m, in \u001b[0;36mSerpApiClient.get_response\u001b[0;34m(self, path)\u001b[0m\n\u001b[1;32m     <a href='file:///Users/emmanuel/opt/anaconda3/envs/transparency/lib/python3.10/site-packages/serpapi/serp_api_client.py?line=56'>57</a>\u001b[0m     url, parameter \u001b[39m=\u001b[39m \u001b[39mself\u001b[39m\u001b[39m.\u001b[39mconstruct_url(path)\n\u001b[1;32m     <a href='file:///Users/emmanuel/opt/anaconda3/envs/transparency/lib/python3.10/site-packages/serpapi/serp_api_client.py?line=57'>58</a>\u001b[0m     \u001b[39mprint\u001b[39m(url)\n\u001b[0;32m---> <a href='file:///Users/emmanuel/opt/anaconda3/envs/transparency/lib/python3.10/site-packages/serpapi/serp_api_client.py?line=58'>59</a>\u001b[0m     response \u001b[39m=\u001b[39m requests\u001b[39m.\u001b[39;49mget(url, parameter, timeout\u001b[39m=\u001b[39;49m\u001b[39mself\u001b[39;49m\u001b[39m.\u001b[39;49mtimeout)\n\u001b[1;32m     <a href='file:///Users/emmanuel/opt/anaconda3/envs/transparency/lib/python3.10/site-packages/serpapi/serp_api_client.py?line=59'>60</a>\u001b[0m     \u001b[39mreturn\u001b[39;00m response\n\u001b[1;32m     <a href='file:///Users/emmanuel/opt/anaconda3/envs/transparency/lib/python3.10/site-packages/serpapi/serp_api_client.py?line=60'>61</a>\u001b[0m \u001b[39mexcept\u001b[39;00m requests\u001b[39m.\u001b[39mHTTPError \u001b[39mas\u001b[39;00m e:\n",
      "File \u001b[0;32m~/opt/anaconda3/envs/transparency/lib/python3.10/site-packages/requests/api.py:75\u001b[0m, in \u001b[0;36mget\u001b[0;34m(url, params, **kwargs)\u001b[0m\n\u001b[1;32m     <a href='file:///Users/emmanuel/opt/anaconda3/envs/transparency/lib/python3.10/site-packages/requests/api.py?line=63'>64</a>\u001b[0m \u001b[39mdef\u001b[39;00m \u001b[39mget\u001b[39m(url, params\u001b[39m=\u001b[39m\u001b[39mNone\u001b[39;00m, \u001b[39m*\u001b[39m\u001b[39m*\u001b[39mkwargs):\n\u001b[1;32m     <a href='file:///Users/emmanuel/opt/anaconda3/envs/transparency/lib/python3.10/site-packages/requests/api.py?line=64'>65</a>\u001b[0m     \u001b[39mr\u001b[39m\u001b[39m\"\"\"Sends a GET request.\u001b[39;00m\n\u001b[1;32m     <a href='file:///Users/emmanuel/opt/anaconda3/envs/transparency/lib/python3.10/site-packages/requests/api.py?line=65'>66</a>\u001b[0m \n\u001b[1;32m     <a href='file:///Users/emmanuel/opt/anaconda3/envs/transparency/lib/python3.10/site-packages/requests/api.py?line=66'>67</a>\u001b[0m \u001b[39m    :param url: URL for the new :class:`Request` object.\u001b[39;00m\n\u001b[0;32m   (...)\u001b[0m\n\u001b[1;32m     <a href='file:///Users/emmanuel/opt/anaconda3/envs/transparency/lib/python3.10/site-packages/requests/api.py?line=71'>72</a>\u001b[0m \u001b[39m    :rtype: requests.Response\u001b[39;00m\n\u001b[1;32m     <a href='file:///Users/emmanuel/opt/anaconda3/envs/transparency/lib/python3.10/site-packages/requests/api.py?line=72'>73</a>\u001b[0m \u001b[39m    \"\"\"\u001b[39;00m\n\u001b[0;32m---> <a href='file:///Users/emmanuel/opt/anaconda3/envs/transparency/lib/python3.10/site-packages/requests/api.py?line=74'>75</a>\u001b[0m     \u001b[39mreturn\u001b[39;00m request(\u001b[39m'\u001b[39;49m\u001b[39mget\u001b[39;49m\u001b[39m'\u001b[39;49m, url, params\u001b[39m=\u001b[39;49mparams, \u001b[39m*\u001b[39;49m\u001b[39m*\u001b[39;49mkwargs)\n",
      "File \u001b[0;32m~/opt/anaconda3/envs/transparency/lib/python3.10/site-packages/requests/api.py:61\u001b[0m, in \u001b[0;36mrequest\u001b[0;34m(method, url, **kwargs)\u001b[0m\n\u001b[1;32m     <a href='file:///Users/emmanuel/opt/anaconda3/envs/transparency/lib/python3.10/site-packages/requests/api.py?line=56'>57</a>\u001b[0m \u001b[39m# By using the 'with' statement we are sure the session is closed, thus we\u001b[39;00m\n\u001b[1;32m     <a href='file:///Users/emmanuel/opt/anaconda3/envs/transparency/lib/python3.10/site-packages/requests/api.py?line=57'>58</a>\u001b[0m \u001b[39m# avoid leaving sockets open which can trigger a ResourceWarning in some\u001b[39;00m\n\u001b[1;32m     <a href='file:///Users/emmanuel/opt/anaconda3/envs/transparency/lib/python3.10/site-packages/requests/api.py?line=58'>59</a>\u001b[0m \u001b[39m# cases, and look like a memory leak in others.\u001b[39;00m\n\u001b[1;32m     <a href='file:///Users/emmanuel/opt/anaconda3/envs/transparency/lib/python3.10/site-packages/requests/api.py?line=59'>60</a>\u001b[0m \u001b[39mwith\u001b[39;00m sessions\u001b[39m.\u001b[39mSession() \u001b[39mas\u001b[39;00m session:\n\u001b[0;32m---> <a href='file:///Users/emmanuel/opt/anaconda3/envs/transparency/lib/python3.10/site-packages/requests/api.py?line=60'>61</a>\u001b[0m     \u001b[39mreturn\u001b[39;00m session\u001b[39m.\u001b[39;49mrequest(method\u001b[39m=\u001b[39;49mmethod, url\u001b[39m=\u001b[39;49murl, \u001b[39m*\u001b[39;49m\u001b[39m*\u001b[39;49mkwargs)\n",
      "File \u001b[0;32m~/opt/anaconda3/envs/transparency/lib/python3.10/site-packages/requests/sessions.py:529\u001b[0m, in \u001b[0;36mSession.request\u001b[0;34m(self, method, url, params, data, headers, cookies, files, auth, timeout, allow_redirects, proxies, hooks, stream, verify, cert, json)\u001b[0m\n\u001b[1;32m    <a href='file:///Users/emmanuel/opt/anaconda3/envs/transparency/lib/python3.10/site-packages/requests/sessions.py?line=523'>524</a>\u001b[0m send_kwargs \u001b[39m=\u001b[39m {\n\u001b[1;32m    <a href='file:///Users/emmanuel/opt/anaconda3/envs/transparency/lib/python3.10/site-packages/requests/sessions.py?line=524'>525</a>\u001b[0m     \u001b[39m'\u001b[39m\u001b[39mtimeout\u001b[39m\u001b[39m'\u001b[39m: timeout,\n\u001b[1;32m    <a href='file:///Users/emmanuel/opt/anaconda3/envs/transparency/lib/python3.10/site-packages/requests/sessions.py?line=525'>526</a>\u001b[0m     \u001b[39m'\u001b[39m\u001b[39mallow_redirects\u001b[39m\u001b[39m'\u001b[39m: allow_redirects,\n\u001b[1;32m    <a href='file:///Users/emmanuel/opt/anaconda3/envs/transparency/lib/python3.10/site-packages/requests/sessions.py?line=526'>527</a>\u001b[0m }\n\u001b[1;32m    <a href='file:///Users/emmanuel/opt/anaconda3/envs/transparency/lib/python3.10/site-packages/requests/sessions.py?line=527'>528</a>\u001b[0m send_kwargs\u001b[39m.\u001b[39mupdate(settings)\n\u001b[0;32m--> <a href='file:///Users/emmanuel/opt/anaconda3/envs/transparency/lib/python3.10/site-packages/requests/sessions.py?line=528'>529</a>\u001b[0m resp \u001b[39m=\u001b[39m \u001b[39mself\u001b[39;49m\u001b[39m.\u001b[39;49msend(prep, \u001b[39m*\u001b[39;49m\u001b[39m*\u001b[39;49msend_kwargs)\n\u001b[1;32m    <a href='file:///Users/emmanuel/opt/anaconda3/envs/transparency/lib/python3.10/site-packages/requests/sessions.py?line=530'>531</a>\u001b[0m \u001b[39mreturn\u001b[39;00m resp\n",
      "File \u001b[0;32m~/opt/anaconda3/envs/transparency/lib/python3.10/site-packages/requests/sessions.py:645\u001b[0m, in \u001b[0;36mSession.send\u001b[0;34m(self, request, **kwargs)\u001b[0m\n\u001b[1;32m    <a href='file:///Users/emmanuel/opt/anaconda3/envs/transparency/lib/python3.10/site-packages/requests/sessions.py?line=641'>642</a>\u001b[0m start \u001b[39m=\u001b[39m preferred_clock()\n\u001b[1;32m    <a href='file:///Users/emmanuel/opt/anaconda3/envs/transparency/lib/python3.10/site-packages/requests/sessions.py?line=643'>644</a>\u001b[0m \u001b[39m# Send the request\u001b[39;00m\n\u001b[0;32m--> <a href='file:///Users/emmanuel/opt/anaconda3/envs/transparency/lib/python3.10/site-packages/requests/sessions.py?line=644'>645</a>\u001b[0m r \u001b[39m=\u001b[39m adapter\u001b[39m.\u001b[39;49msend(request, \u001b[39m*\u001b[39;49m\u001b[39m*\u001b[39;49mkwargs)\n\u001b[1;32m    <a href='file:///Users/emmanuel/opt/anaconda3/envs/transparency/lib/python3.10/site-packages/requests/sessions.py?line=646'>647</a>\u001b[0m \u001b[39m# Total elapsed time of the request (approximately)\u001b[39;00m\n\u001b[1;32m    <a href='file:///Users/emmanuel/opt/anaconda3/envs/transparency/lib/python3.10/site-packages/requests/sessions.py?line=647'>648</a>\u001b[0m elapsed \u001b[39m=\u001b[39m preferred_clock() \u001b[39m-\u001b[39m start\n",
      "File \u001b[0;32m~/opt/anaconda3/envs/transparency/lib/python3.10/site-packages/requests/adapters.py:440\u001b[0m, in \u001b[0;36mHTTPAdapter.send\u001b[0;34m(self, request, stream, timeout, verify, cert, proxies)\u001b[0m\n\u001b[1;32m    <a href='file:///Users/emmanuel/opt/anaconda3/envs/transparency/lib/python3.10/site-packages/requests/adapters.py?line=437'>438</a>\u001b[0m \u001b[39mtry\u001b[39;00m:\n\u001b[1;32m    <a href='file:///Users/emmanuel/opt/anaconda3/envs/transparency/lib/python3.10/site-packages/requests/adapters.py?line=438'>439</a>\u001b[0m     \u001b[39mif\u001b[39;00m \u001b[39mnot\u001b[39;00m chunked:\n\u001b[0;32m--> <a href='file:///Users/emmanuel/opt/anaconda3/envs/transparency/lib/python3.10/site-packages/requests/adapters.py?line=439'>440</a>\u001b[0m         resp \u001b[39m=\u001b[39m conn\u001b[39m.\u001b[39;49murlopen(\n\u001b[1;32m    <a href='file:///Users/emmanuel/opt/anaconda3/envs/transparency/lib/python3.10/site-packages/requests/adapters.py?line=440'>441</a>\u001b[0m             method\u001b[39m=\u001b[39;49mrequest\u001b[39m.\u001b[39;49mmethod,\n\u001b[1;32m    <a href='file:///Users/emmanuel/opt/anaconda3/envs/transparency/lib/python3.10/site-packages/requests/adapters.py?line=441'>442</a>\u001b[0m             url\u001b[39m=\u001b[39;49murl,\n\u001b[1;32m    <a href='file:///Users/emmanuel/opt/anaconda3/envs/transparency/lib/python3.10/site-packages/requests/adapters.py?line=442'>443</a>\u001b[0m             body\u001b[39m=\u001b[39;49mrequest\u001b[39m.\u001b[39;49mbody,\n\u001b[1;32m    <a href='file:///Users/emmanuel/opt/anaconda3/envs/transparency/lib/python3.10/site-packages/requests/adapters.py?line=443'>444</a>\u001b[0m             headers\u001b[39m=\u001b[39;49mrequest\u001b[39m.\u001b[39;49mheaders,\n\u001b[1;32m    <a href='file:///Users/emmanuel/opt/anaconda3/envs/transparency/lib/python3.10/site-packages/requests/adapters.py?line=444'>445</a>\u001b[0m             redirect\u001b[39m=\u001b[39;49m\u001b[39mFalse\u001b[39;49;00m,\n\u001b[1;32m    <a href='file:///Users/emmanuel/opt/anaconda3/envs/transparency/lib/python3.10/site-packages/requests/adapters.py?line=445'>446</a>\u001b[0m             assert_same_host\u001b[39m=\u001b[39;49m\u001b[39mFalse\u001b[39;49;00m,\n\u001b[1;32m    <a href='file:///Users/emmanuel/opt/anaconda3/envs/transparency/lib/python3.10/site-packages/requests/adapters.py?line=446'>447</a>\u001b[0m             preload_content\u001b[39m=\u001b[39;49m\u001b[39mFalse\u001b[39;49;00m,\n\u001b[1;32m    <a href='file:///Users/emmanuel/opt/anaconda3/envs/transparency/lib/python3.10/site-packages/requests/adapters.py?line=447'>448</a>\u001b[0m             decode_content\u001b[39m=\u001b[39;49m\u001b[39mFalse\u001b[39;49;00m,\n\u001b[1;32m    <a href='file:///Users/emmanuel/opt/anaconda3/envs/transparency/lib/python3.10/site-packages/requests/adapters.py?line=448'>449</a>\u001b[0m             retries\u001b[39m=\u001b[39;49m\u001b[39mself\u001b[39;49m\u001b[39m.\u001b[39;49mmax_retries,\n\u001b[1;32m    <a href='file:///Users/emmanuel/opt/anaconda3/envs/transparency/lib/python3.10/site-packages/requests/adapters.py?line=449'>450</a>\u001b[0m             timeout\u001b[39m=\u001b[39;49mtimeout\n\u001b[1;32m    <a href='file:///Users/emmanuel/opt/anaconda3/envs/transparency/lib/python3.10/site-packages/requests/adapters.py?line=450'>451</a>\u001b[0m         )\n\u001b[1;32m    <a href='file:///Users/emmanuel/opt/anaconda3/envs/transparency/lib/python3.10/site-packages/requests/adapters.py?line=452'>453</a>\u001b[0m     \u001b[39m# Send the request.\u001b[39;00m\n\u001b[1;32m    <a href='file:///Users/emmanuel/opt/anaconda3/envs/transparency/lib/python3.10/site-packages/requests/adapters.py?line=453'>454</a>\u001b[0m     \u001b[39melse\u001b[39;00m:\n\u001b[1;32m    <a href='file:///Users/emmanuel/opt/anaconda3/envs/transparency/lib/python3.10/site-packages/requests/adapters.py?line=454'>455</a>\u001b[0m         \u001b[39mif\u001b[39;00m \u001b[39mhasattr\u001b[39m(conn, \u001b[39m'\u001b[39m\u001b[39mproxy_pool\u001b[39m\u001b[39m'\u001b[39m):\n",
      "File \u001b[0;32m~/opt/anaconda3/envs/transparency/lib/python3.10/site-packages/urllib3/connectionpool.py:703\u001b[0m, in \u001b[0;36mHTTPConnectionPool.urlopen\u001b[0;34m(self, method, url, body, headers, retries, redirect, assert_same_host, timeout, pool_timeout, release_conn, chunked, body_pos, **response_kw)\u001b[0m\n\u001b[1;32m    <a href='file:///Users/emmanuel/opt/anaconda3/envs/transparency/lib/python3.10/site-packages/urllib3/connectionpool.py?line=699'>700</a>\u001b[0m     \u001b[39mself\u001b[39m\u001b[39m.\u001b[39m_prepare_proxy(conn)\n\u001b[1;32m    <a href='file:///Users/emmanuel/opt/anaconda3/envs/transparency/lib/python3.10/site-packages/urllib3/connectionpool.py?line=701'>702</a>\u001b[0m \u001b[39m# Make the request on the httplib connection object.\u001b[39;00m\n\u001b[0;32m--> <a href='file:///Users/emmanuel/opt/anaconda3/envs/transparency/lib/python3.10/site-packages/urllib3/connectionpool.py?line=702'>703</a>\u001b[0m httplib_response \u001b[39m=\u001b[39m \u001b[39mself\u001b[39;49m\u001b[39m.\u001b[39;49m_make_request(\n\u001b[1;32m    <a href='file:///Users/emmanuel/opt/anaconda3/envs/transparency/lib/python3.10/site-packages/urllib3/connectionpool.py?line=703'>704</a>\u001b[0m     conn,\n\u001b[1;32m    <a href='file:///Users/emmanuel/opt/anaconda3/envs/transparency/lib/python3.10/site-packages/urllib3/connectionpool.py?line=704'>705</a>\u001b[0m     method,\n\u001b[1;32m    <a href='file:///Users/emmanuel/opt/anaconda3/envs/transparency/lib/python3.10/site-packages/urllib3/connectionpool.py?line=705'>706</a>\u001b[0m     url,\n\u001b[1;32m    <a href='file:///Users/emmanuel/opt/anaconda3/envs/transparency/lib/python3.10/site-packages/urllib3/connectionpool.py?line=706'>707</a>\u001b[0m     timeout\u001b[39m=\u001b[39;49mtimeout_obj,\n\u001b[1;32m    <a href='file:///Users/emmanuel/opt/anaconda3/envs/transparency/lib/python3.10/site-packages/urllib3/connectionpool.py?line=707'>708</a>\u001b[0m     body\u001b[39m=\u001b[39;49mbody,\n\u001b[1;32m    <a href='file:///Users/emmanuel/opt/anaconda3/envs/transparency/lib/python3.10/site-packages/urllib3/connectionpool.py?line=708'>709</a>\u001b[0m     headers\u001b[39m=\u001b[39;49mheaders,\n\u001b[1;32m    <a href='file:///Users/emmanuel/opt/anaconda3/envs/transparency/lib/python3.10/site-packages/urllib3/connectionpool.py?line=709'>710</a>\u001b[0m     chunked\u001b[39m=\u001b[39;49mchunked,\n\u001b[1;32m    <a href='file:///Users/emmanuel/opt/anaconda3/envs/transparency/lib/python3.10/site-packages/urllib3/connectionpool.py?line=710'>711</a>\u001b[0m )\n\u001b[1;32m    <a href='file:///Users/emmanuel/opt/anaconda3/envs/transparency/lib/python3.10/site-packages/urllib3/connectionpool.py?line=712'>713</a>\u001b[0m \u001b[39m# If we're going to release the connection in ``finally:``, then\u001b[39;00m\n\u001b[1;32m    <a href='file:///Users/emmanuel/opt/anaconda3/envs/transparency/lib/python3.10/site-packages/urllib3/connectionpool.py?line=713'>714</a>\u001b[0m \u001b[39m# the response doesn't need to know about the connection. Otherwise\u001b[39;00m\n\u001b[1;32m    <a href='file:///Users/emmanuel/opt/anaconda3/envs/transparency/lib/python3.10/site-packages/urllib3/connectionpool.py?line=714'>715</a>\u001b[0m \u001b[39m# it will also try to release it and we'll have a double-release\u001b[39;00m\n\u001b[1;32m    <a href='file:///Users/emmanuel/opt/anaconda3/envs/transparency/lib/python3.10/site-packages/urllib3/connectionpool.py?line=715'>716</a>\u001b[0m \u001b[39m# mess.\u001b[39;00m\n\u001b[1;32m    <a href='file:///Users/emmanuel/opt/anaconda3/envs/transparency/lib/python3.10/site-packages/urllib3/connectionpool.py?line=716'>717</a>\u001b[0m response_conn \u001b[39m=\u001b[39m conn \u001b[39mif\u001b[39;00m \u001b[39mnot\u001b[39;00m release_conn \u001b[39melse\u001b[39;00m \u001b[39mNone\u001b[39;00m\n",
      "File \u001b[0;32m~/opt/anaconda3/envs/transparency/lib/python3.10/site-packages/urllib3/connectionpool.py:386\u001b[0m, in \u001b[0;36mHTTPConnectionPool._make_request\u001b[0;34m(self, conn, method, url, timeout, chunked, **httplib_request_kw)\u001b[0m\n\u001b[1;32m    <a href='file:///Users/emmanuel/opt/anaconda3/envs/transparency/lib/python3.10/site-packages/urllib3/connectionpool.py?line=383'>384</a>\u001b[0m \u001b[39m# Trigger any extra validation we need to do.\u001b[39;00m\n\u001b[1;32m    <a href='file:///Users/emmanuel/opt/anaconda3/envs/transparency/lib/python3.10/site-packages/urllib3/connectionpool.py?line=384'>385</a>\u001b[0m \u001b[39mtry\u001b[39;00m:\n\u001b[0;32m--> <a href='file:///Users/emmanuel/opt/anaconda3/envs/transparency/lib/python3.10/site-packages/urllib3/connectionpool.py?line=385'>386</a>\u001b[0m     \u001b[39mself\u001b[39;49m\u001b[39m.\u001b[39;49m_validate_conn(conn)\n\u001b[1;32m    <a href='file:///Users/emmanuel/opt/anaconda3/envs/transparency/lib/python3.10/site-packages/urllib3/connectionpool.py?line=386'>387</a>\u001b[0m \u001b[39mexcept\u001b[39;00m (SocketTimeout, BaseSSLError) \u001b[39mas\u001b[39;00m e:\n\u001b[1;32m    <a href='file:///Users/emmanuel/opt/anaconda3/envs/transparency/lib/python3.10/site-packages/urllib3/connectionpool.py?line=387'>388</a>\u001b[0m     \u001b[39m# Py2 raises this as a BaseSSLError, Py3 raises it as socket timeout.\u001b[39;00m\n\u001b[1;32m    <a href='file:///Users/emmanuel/opt/anaconda3/envs/transparency/lib/python3.10/site-packages/urllib3/connectionpool.py?line=388'>389</a>\u001b[0m     \u001b[39mself\u001b[39m\u001b[39m.\u001b[39m_raise_timeout(err\u001b[39m=\u001b[39me, url\u001b[39m=\u001b[39murl, timeout_value\u001b[39m=\u001b[39mconn\u001b[39m.\u001b[39mtimeout)\n",
      "File \u001b[0;32m~/opt/anaconda3/envs/transparency/lib/python3.10/site-packages/urllib3/connectionpool.py:1040\u001b[0m, in \u001b[0;36mHTTPSConnectionPool._validate_conn\u001b[0;34m(self, conn)\u001b[0m\n\u001b[1;32m   <a href='file:///Users/emmanuel/opt/anaconda3/envs/transparency/lib/python3.10/site-packages/urllib3/connectionpool.py?line=1037'>1038</a>\u001b[0m \u001b[39m# Force connect early to allow us to validate the connection.\u001b[39;00m\n\u001b[1;32m   <a href='file:///Users/emmanuel/opt/anaconda3/envs/transparency/lib/python3.10/site-packages/urllib3/connectionpool.py?line=1038'>1039</a>\u001b[0m \u001b[39mif\u001b[39;00m \u001b[39mnot\u001b[39;00m \u001b[39mgetattr\u001b[39m(conn, \u001b[39m\"\u001b[39m\u001b[39msock\u001b[39m\u001b[39m\"\u001b[39m, \u001b[39mNone\u001b[39;00m):  \u001b[39m# AppEngine might not have  `.sock`\u001b[39;00m\n\u001b[0;32m-> <a href='file:///Users/emmanuel/opt/anaconda3/envs/transparency/lib/python3.10/site-packages/urllib3/connectionpool.py?line=1039'>1040</a>\u001b[0m     conn\u001b[39m.\u001b[39;49mconnect()\n\u001b[1;32m   <a href='file:///Users/emmanuel/opt/anaconda3/envs/transparency/lib/python3.10/site-packages/urllib3/connectionpool.py?line=1041'>1042</a>\u001b[0m \u001b[39mif\u001b[39;00m \u001b[39mnot\u001b[39;00m conn\u001b[39m.\u001b[39mis_verified:\n\u001b[1;32m   <a href='file:///Users/emmanuel/opt/anaconda3/envs/transparency/lib/python3.10/site-packages/urllib3/connectionpool.py?line=1042'>1043</a>\u001b[0m     warnings\u001b[39m.\u001b[39mwarn(\n\u001b[1;32m   <a href='file:///Users/emmanuel/opt/anaconda3/envs/transparency/lib/python3.10/site-packages/urllib3/connectionpool.py?line=1043'>1044</a>\u001b[0m         (\n\u001b[1;32m   <a href='file:///Users/emmanuel/opt/anaconda3/envs/transparency/lib/python3.10/site-packages/urllib3/connectionpool.py?line=1044'>1045</a>\u001b[0m             \u001b[39m\"\u001b[39m\u001b[39mUnverified HTTPS request is being made to host \u001b[39m\u001b[39m'\u001b[39m\u001b[39m%s\u001b[39;00m\u001b[39m'\u001b[39m\u001b[39m. \u001b[39m\u001b[39m\"\u001b[39m\n\u001b[0;32m   (...)\u001b[0m\n\u001b[1;32m   <a href='file:///Users/emmanuel/opt/anaconda3/envs/transparency/lib/python3.10/site-packages/urllib3/connectionpool.py?line=1049'>1050</a>\u001b[0m         InsecureRequestWarning,\n\u001b[1;32m   <a href='file:///Users/emmanuel/opt/anaconda3/envs/transparency/lib/python3.10/site-packages/urllib3/connectionpool.py?line=1050'>1051</a>\u001b[0m     )\n",
      "File \u001b[0;32m~/opt/anaconda3/envs/transparency/lib/python3.10/site-packages/urllib3/connection.py:414\u001b[0m, in \u001b[0;36mHTTPSConnection.connect\u001b[0;34m(self)\u001b[0m\n\u001b[1;32m    <a href='file:///Users/emmanuel/opt/anaconda3/envs/transparency/lib/python3.10/site-packages/urllib3/connection.py?line=404'>405</a>\u001b[0m \u001b[39mif\u001b[39;00m (\n\u001b[1;32m    <a href='file:///Users/emmanuel/opt/anaconda3/envs/transparency/lib/python3.10/site-packages/urllib3/connection.py?line=405'>406</a>\u001b[0m     \u001b[39mnot\u001b[39;00m \u001b[39mself\u001b[39m\u001b[39m.\u001b[39mca_certs\n\u001b[1;32m    <a href='file:///Users/emmanuel/opt/anaconda3/envs/transparency/lib/python3.10/site-packages/urllib3/connection.py?line=406'>407</a>\u001b[0m     \u001b[39mand\u001b[39;00m \u001b[39mnot\u001b[39;00m \u001b[39mself\u001b[39m\u001b[39m.\u001b[39mca_cert_dir\n\u001b[0;32m   (...)\u001b[0m\n\u001b[1;32m    <a href='file:///Users/emmanuel/opt/anaconda3/envs/transparency/lib/python3.10/site-packages/urllib3/connection.py?line=409'>410</a>\u001b[0m     \u001b[39mand\u001b[39;00m \u001b[39mhasattr\u001b[39m(context, \u001b[39m\"\u001b[39m\u001b[39mload_default_certs\u001b[39m\u001b[39m\"\u001b[39m)\n\u001b[1;32m    <a href='file:///Users/emmanuel/opt/anaconda3/envs/transparency/lib/python3.10/site-packages/urllib3/connection.py?line=410'>411</a>\u001b[0m ):\n\u001b[1;32m    <a href='file:///Users/emmanuel/opt/anaconda3/envs/transparency/lib/python3.10/site-packages/urllib3/connection.py?line=411'>412</a>\u001b[0m     context\u001b[39m.\u001b[39mload_default_certs()\n\u001b[0;32m--> <a href='file:///Users/emmanuel/opt/anaconda3/envs/transparency/lib/python3.10/site-packages/urllib3/connection.py?line=413'>414</a>\u001b[0m \u001b[39mself\u001b[39m\u001b[39m.\u001b[39msock \u001b[39m=\u001b[39m ssl_wrap_socket(\n\u001b[1;32m    <a href='file:///Users/emmanuel/opt/anaconda3/envs/transparency/lib/python3.10/site-packages/urllib3/connection.py?line=414'>415</a>\u001b[0m     sock\u001b[39m=\u001b[39;49mconn,\n\u001b[1;32m    <a href='file:///Users/emmanuel/opt/anaconda3/envs/transparency/lib/python3.10/site-packages/urllib3/connection.py?line=415'>416</a>\u001b[0m     keyfile\u001b[39m=\u001b[39;49m\u001b[39mself\u001b[39;49m\u001b[39m.\u001b[39;49mkey_file,\n\u001b[1;32m    <a href='file:///Users/emmanuel/opt/anaconda3/envs/transparency/lib/python3.10/site-packages/urllib3/connection.py?line=416'>417</a>\u001b[0m     certfile\u001b[39m=\u001b[39;49m\u001b[39mself\u001b[39;49m\u001b[39m.\u001b[39;49mcert_file,\n\u001b[1;32m    <a href='file:///Users/emmanuel/opt/anaconda3/envs/transparency/lib/python3.10/site-packages/urllib3/connection.py?line=417'>418</a>\u001b[0m     key_password\u001b[39m=\u001b[39;49m\u001b[39mself\u001b[39;49m\u001b[39m.\u001b[39;49mkey_password,\n\u001b[1;32m    <a href='file:///Users/emmanuel/opt/anaconda3/envs/transparency/lib/python3.10/site-packages/urllib3/connection.py?line=418'>419</a>\u001b[0m     ca_certs\u001b[39m=\u001b[39;49m\u001b[39mself\u001b[39;49m\u001b[39m.\u001b[39;49mca_certs,\n\u001b[1;32m    <a href='file:///Users/emmanuel/opt/anaconda3/envs/transparency/lib/python3.10/site-packages/urllib3/connection.py?line=419'>420</a>\u001b[0m     ca_cert_dir\u001b[39m=\u001b[39;49m\u001b[39mself\u001b[39;49m\u001b[39m.\u001b[39;49mca_cert_dir,\n\u001b[1;32m    <a href='file:///Users/emmanuel/opt/anaconda3/envs/transparency/lib/python3.10/site-packages/urllib3/connection.py?line=420'>421</a>\u001b[0m     ca_cert_data\u001b[39m=\u001b[39;49m\u001b[39mself\u001b[39;49m\u001b[39m.\u001b[39;49mca_cert_data,\n\u001b[1;32m    <a href='file:///Users/emmanuel/opt/anaconda3/envs/transparency/lib/python3.10/site-packages/urllib3/connection.py?line=421'>422</a>\u001b[0m     server_hostname\u001b[39m=\u001b[39;49mserver_hostname,\n\u001b[1;32m    <a href='file:///Users/emmanuel/opt/anaconda3/envs/transparency/lib/python3.10/site-packages/urllib3/connection.py?line=422'>423</a>\u001b[0m     ssl_context\u001b[39m=\u001b[39;49mcontext,\n\u001b[1;32m    <a href='file:///Users/emmanuel/opt/anaconda3/envs/transparency/lib/python3.10/site-packages/urllib3/connection.py?line=423'>424</a>\u001b[0m     tls_in_tls\u001b[39m=\u001b[39;49mtls_in_tls,\n\u001b[1;32m    <a href='file:///Users/emmanuel/opt/anaconda3/envs/transparency/lib/python3.10/site-packages/urllib3/connection.py?line=424'>425</a>\u001b[0m )\n\u001b[1;32m    <a href='file:///Users/emmanuel/opt/anaconda3/envs/transparency/lib/python3.10/site-packages/urllib3/connection.py?line=426'>427</a>\u001b[0m \u001b[39m# If we're using all defaults and the connection\u001b[39;00m\n\u001b[1;32m    <a href='file:///Users/emmanuel/opt/anaconda3/envs/transparency/lib/python3.10/site-packages/urllib3/connection.py?line=427'>428</a>\u001b[0m \u001b[39m# is TLSv1 or TLSv1.1 we throw a DeprecationWarning\u001b[39;00m\n\u001b[1;32m    <a href='file:///Users/emmanuel/opt/anaconda3/envs/transparency/lib/python3.10/site-packages/urllib3/connection.py?line=428'>429</a>\u001b[0m \u001b[39m# for the host.\u001b[39;00m\n\u001b[1;32m    <a href='file:///Users/emmanuel/opt/anaconda3/envs/transparency/lib/python3.10/site-packages/urllib3/connection.py?line=429'>430</a>\u001b[0m \u001b[39mif\u001b[39;00m (\n\u001b[1;32m    <a href='file:///Users/emmanuel/opt/anaconda3/envs/transparency/lib/python3.10/site-packages/urllib3/connection.py?line=430'>431</a>\u001b[0m     default_ssl_context\n\u001b[1;32m    <a href='file:///Users/emmanuel/opt/anaconda3/envs/transparency/lib/python3.10/site-packages/urllib3/connection.py?line=431'>432</a>\u001b[0m     \u001b[39mand\u001b[39;00m \u001b[39mself\u001b[39m\u001b[39m.\u001b[39mssl_version \u001b[39mis\u001b[39;00m \u001b[39mNone\u001b[39;00m\n\u001b[1;32m    <a href='file:///Users/emmanuel/opt/anaconda3/envs/transparency/lib/python3.10/site-packages/urllib3/connection.py?line=432'>433</a>\u001b[0m     \u001b[39mand\u001b[39;00m \u001b[39mhasattr\u001b[39m(\u001b[39mself\u001b[39m\u001b[39m.\u001b[39msock, \u001b[39m\"\u001b[39m\u001b[39mversion\u001b[39m\u001b[39m\"\u001b[39m)\n\u001b[1;32m    <a href='file:///Users/emmanuel/opt/anaconda3/envs/transparency/lib/python3.10/site-packages/urllib3/connection.py?line=433'>434</a>\u001b[0m     \u001b[39mand\u001b[39;00m \u001b[39mself\u001b[39m\u001b[39m.\u001b[39msock\u001b[39m.\u001b[39mversion() \u001b[39min\u001b[39;00m {\u001b[39m\"\u001b[39m\u001b[39mTLSv1\u001b[39m\u001b[39m\"\u001b[39m, \u001b[39m\"\u001b[39m\u001b[39mTLSv1.1\u001b[39m\u001b[39m\"\u001b[39m}\n\u001b[1;32m    <a href='file:///Users/emmanuel/opt/anaconda3/envs/transparency/lib/python3.10/site-packages/urllib3/connection.py?line=434'>435</a>\u001b[0m ):\n",
      "File \u001b[0;32m~/opt/anaconda3/envs/transparency/lib/python3.10/site-packages/urllib3/util/ssl_.py:449\u001b[0m, in \u001b[0;36mssl_wrap_socket\u001b[0;34m(sock, keyfile, certfile, cert_reqs, ca_certs, server_hostname, ssl_version, ciphers, ssl_context, ca_cert_dir, key_password, ca_cert_data, tls_in_tls)\u001b[0m\n\u001b[1;32m    <a href='file:///Users/emmanuel/opt/anaconda3/envs/transparency/lib/python3.10/site-packages/urllib3/util/ssl_.py?line=436'>437</a>\u001b[0m     warnings\u001b[39m.\u001b[39mwarn(\n\u001b[1;32m    <a href='file:///Users/emmanuel/opt/anaconda3/envs/transparency/lib/python3.10/site-packages/urllib3/util/ssl_.py?line=437'>438</a>\u001b[0m         \u001b[39m\"\u001b[39m\u001b[39mAn HTTPS request has been made, but the SNI (Server Name \u001b[39m\u001b[39m\"\u001b[39m\n\u001b[1;32m    <a href='file:///Users/emmanuel/opt/anaconda3/envs/transparency/lib/python3.10/site-packages/urllib3/util/ssl_.py?line=438'>439</a>\u001b[0m         \u001b[39m\"\u001b[39m\u001b[39mIndication) extension to TLS is not available on this platform. \u001b[39m\u001b[39m\"\u001b[39m\n\u001b[0;32m   (...)\u001b[0m\n\u001b[1;32m    <a href='file:///Users/emmanuel/opt/anaconda3/envs/transparency/lib/python3.10/site-packages/urllib3/util/ssl_.py?line=444'>445</a>\u001b[0m         SNIMissingWarning,\n\u001b[1;32m    <a href='file:///Users/emmanuel/opt/anaconda3/envs/transparency/lib/python3.10/site-packages/urllib3/util/ssl_.py?line=445'>446</a>\u001b[0m     )\n\u001b[1;32m    <a href='file:///Users/emmanuel/opt/anaconda3/envs/transparency/lib/python3.10/site-packages/urllib3/util/ssl_.py?line=447'>448</a>\u001b[0m \u001b[39mif\u001b[39;00m send_sni:\n\u001b[0;32m--> <a href='file:///Users/emmanuel/opt/anaconda3/envs/transparency/lib/python3.10/site-packages/urllib3/util/ssl_.py?line=448'>449</a>\u001b[0m     ssl_sock \u001b[39m=\u001b[39m _ssl_wrap_socket_impl(\n\u001b[1;32m    <a href='file:///Users/emmanuel/opt/anaconda3/envs/transparency/lib/python3.10/site-packages/urllib3/util/ssl_.py?line=449'>450</a>\u001b[0m         sock, context, tls_in_tls, server_hostname\u001b[39m=\u001b[39;49mserver_hostname\n\u001b[1;32m    <a href='file:///Users/emmanuel/opt/anaconda3/envs/transparency/lib/python3.10/site-packages/urllib3/util/ssl_.py?line=450'>451</a>\u001b[0m     )\n\u001b[1;32m    <a href='file:///Users/emmanuel/opt/anaconda3/envs/transparency/lib/python3.10/site-packages/urllib3/util/ssl_.py?line=451'>452</a>\u001b[0m \u001b[39melse\u001b[39;00m:\n\u001b[1;32m    <a href='file:///Users/emmanuel/opt/anaconda3/envs/transparency/lib/python3.10/site-packages/urllib3/util/ssl_.py?line=452'>453</a>\u001b[0m     ssl_sock \u001b[39m=\u001b[39m _ssl_wrap_socket_impl(sock, context, tls_in_tls)\n",
      "File \u001b[0;32m~/opt/anaconda3/envs/transparency/lib/python3.10/site-packages/urllib3/util/ssl_.py:493\u001b[0m, in \u001b[0;36m_ssl_wrap_socket_impl\u001b[0;34m(sock, ssl_context, tls_in_tls, server_hostname)\u001b[0m\n\u001b[1;32m    <a href='file:///Users/emmanuel/opt/anaconda3/envs/transparency/lib/python3.10/site-packages/urllib3/util/ssl_.py?line=489'>490</a>\u001b[0m     \u001b[39mreturn\u001b[39;00m SSLTransport(sock, ssl_context, server_hostname)\n\u001b[1;32m    <a href='file:///Users/emmanuel/opt/anaconda3/envs/transparency/lib/python3.10/site-packages/urllib3/util/ssl_.py?line=491'>492</a>\u001b[0m \u001b[39mif\u001b[39;00m server_hostname:\n\u001b[0;32m--> <a href='file:///Users/emmanuel/opt/anaconda3/envs/transparency/lib/python3.10/site-packages/urllib3/util/ssl_.py?line=492'>493</a>\u001b[0m     \u001b[39mreturn\u001b[39;00m ssl_context\u001b[39m.\u001b[39;49mwrap_socket(sock, server_hostname\u001b[39m=\u001b[39;49mserver_hostname)\n\u001b[1;32m    <a href='file:///Users/emmanuel/opt/anaconda3/envs/transparency/lib/python3.10/site-packages/urllib3/util/ssl_.py?line=493'>494</a>\u001b[0m \u001b[39melse\u001b[39;00m:\n\u001b[1;32m    <a href='file:///Users/emmanuel/opt/anaconda3/envs/transparency/lib/python3.10/site-packages/urllib3/util/ssl_.py?line=494'>495</a>\u001b[0m     \u001b[39mreturn\u001b[39;00m ssl_context\u001b[39m.\u001b[39mwrap_socket(sock)\n",
      "File \u001b[0;32m~/opt/anaconda3/envs/transparency/lib/python3.10/ssl.py:512\u001b[0m, in \u001b[0;36mSSLContext.wrap_socket\u001b[0;34m(self, sock, server_side, do_handshake_on_connect, suppress_ragged_eofs, server_hostname, session)\u001b[0m\n\u001b[1;32m    <a href='file:///Users/emmanuel/opt/anaconda3/envs/transparency/lib/python3.10/ssl.py?line=505'>506</a>\u001b[0m \u001b[39mdef\u001b[39;00m \u001b[39mwrap_socket\u001b[39m(\u001b[39mself\u001b[39m, sock, server_side\u001b[39m=\u001b[39m\u001b[39mFalse\u001b[39;00m,\n\u001b[1;32m    <a href='file:///Users/emmanuel/opt/anaconda3/envs/transparency/lib/python3.10/ssl.py?line=506'>507</a>\u001b[0m                 do_handshake_on_connect\u001b[39m=\u001b[39m\u001b[39mTrue\u001b[39;00m,\n\u001b[1;32m    <a href='file:///Users/emmanuel/opt/anaconda3/envs/transparency/lib/python3.10/ssl.py?line=507'>508</a>\u001b[0m                 suppress_ragged_eofs\u001b[39m=\u001b[39m\u001b[39mTrue\u001b[39;00m,\n\u001b[1;32m    <a href='file:///Users/emmanuel/opt/anaconda3/envs/transparency/lib/python3.10/ssl.py?line=508'>509</a>\u001b[0m                 server_hostname\u001b[39m=\u001b[39m\u001b[39mNone\u001b[39;00m, session\u001b[39m=\u001b[39m\u001b[39mNone\u001b[39;00m):\n\u001b[1;32m    <a href='file:///Users/emmanuel/opt/anaconda3/envs/transparency/lib/python3.10/ssl.py?line=509'>510</a>\u001b[0m     \u001b[39m# SSLSocket class handles server_hostname encoding before it calls\u001b[39;00m\n\u001b[1;32m    <a href='file:///Users/emmanuel/opt/anaconda3/envs/transparency/lib/python3.10/ssl.py?line=510'>511</a>\u001b[0m     \u001b[39m# ctx._wrap_socket()\u001b[39;00m\n\u001b[0;32m--> <a href='file:///Users/emmanuel/opt/anaconda3/envs/transparency/lib/python3.10/ssl.py?line=511'>512</a>\u001b[0m     \u001b[39mreturn\u001b[39;00m \u001b[39mself\u001b[39;49m\u001b[39m.\u001b[39;49msslsocket_class\u001b[39m.\u001b[39;49m_create(\n\u001b[1;32m    <a href='file:///Users/emmanuel/opt/anaconda3/envs/transparency/lib/python3.10/ssl.py?line=512'>513</a>\u001b[0m         sock\u001b[39m=\u001b[39;49msock,\n\u001b[1;32m    <a href='file:///Users/emmanuel/opt/anaconda3/envs/transparency/lib/python3.10/ssl.py?line=513'>514</a>\u001b[0m         server_side\u001b[39m=\u001b[39;49mserver_side,\n\u001b[1;32m    <a href='file:///Users/emmanuel/opt/anaconda3/envs/transparency/lib/python3.10/ssl.py?line=514'>515</a>\u001b[0m         do_handshake_on_connect\u001b[39m=\u001b[39;49mdo_handshake_on_connect,\n\u001b[1;32m    <a href='file:///Users/emmanuel/opt/anaconda3/envs/transparency/lib/python3.10/ssl.py?line=515'>516</a>\u001b[0m         suppress_ragged_eofs\u001b[39m=\u001b[39;49msuppress_ragged_eofs,\n\u001b[1;32m    <a href='file:///Users/emmanuel/opt/anaconda3/envs/transparency/lib/python3.10/ssl.py?line=516'>517</a>\u001b[0m         server_hostname\u001b[39m=\u001b[39;49mserver_hostname,\n\u001b[1;32m    <a href='file:///Users/emmanuel/opt/anaconda3/envs/transparency/lib/python3.10/ssl.py?line=517'>518</a>\u001b[0m         context\u001b[39m=\u001b[39;49m\u001b[39mself\u001b[39;49m,\n\u001b[1;32m    <a href='file:///Users/emmanuel/opt/anaconda3/envs/transparency/lib/python3.10/ssl.py?line=518'>519</a>\u001b[0m         session\u001b[39m=\u001b[39;49msession\n\u001b[1;32m    <a href='file:///Users/emmanuel/opt/anaconda3/envs/transparency/lib/python3.10/ssl.py?line=519'>520</a>\u001b[0m     )\n",
      "File \u001b[0;32m~/opt/anaconda3/envs/transparency/lib/python3.10/ssl.py:1070\u001b[0m, in \u001b[0;36mSSLSocket._create\u001b[0;34m(cls, sock, server_side, do_handshake_on_connect, suppress_ragged_eofs, server_hostname, context, session)\u001b[0m\n\u001b[1;32m   <a href='file:///Users/emmanuel/opt/anaconda3/envs/transparency/lib/python3.10/ssl.py?line=1066'>1067</a>\u001b[0m         \u001b[39mif\u001b[39;00m timeout \u001b[39m==\u001b[39m \u001b[39m0.0\u001b[39m:\n\u001b[1;32m   <a href='file:///Users/emmanuel/opt/anaconda3/envs/transparency/lib/python3.10/ssl.py?line=1067'>1068</a>\u001b[0m             \u001b[39m# non-blocking\u001b[39;00m\n\u001b[1;32m   <a href='file:///Users/emmanuel/opt/anaconda3/envs/transparency/lib/python3.10/ssl.py?line=1068'>1069</a>\u001b[0m             \u001b[39mraise\u001b[39;00m \u001b[39mValueError\u001b[39;00m(\u001b[39m\"\u001b[39m\u001b[39mdo_handshake_on_connect should not be specified for non-blocking sockets\u001b[39m\u001b[39m\"\u001b[39m)\n\u001b[0;32m-> <a href='file:///Users/emmanuel/opt/anaconda3/envs/transparency/lib/python3.10/ssl.py?line=1069'>1070</a>\u001b[0m         \u001b[39mself\u001b[39;49m\u001b[39m.\u001b[39;49mdo_handshake()\n\u001b[1;32m   <a href='file:///Users/emmanuel/opt/anaconda3/envs/transparency/lib/python3.10/ssl.py?line=1070'>1071</a>\u001b[0m \u001b[39mexcept\u001b[39;00m (\u001b[39mOSError\u001b[39;00m, \u001b[39mValueError\u001b[39;00m):\n\u001b[1;32m   <a href='file:///Users/emmanuel/opt/anaconda3/envs/transparency/lib/python3.10/ssl.py?line=1071'>1072</a>\u001b[0m     \u001b[39mself\u001b[39m\u001b[39m.\u001b[39mclose()\n",
      "File \u001b[0;32m~/opt/anaconda3/envs/transparency/lib/python3.10/ssl.py:1341\u001b[0m, in \u001b[0;36mSSLSocket.do_handshake\u001b[0;34m(self, block)\u001b[0m\n\u001b[1;32m   <a href='file:///Users/emmanuel/opt/anaconda3/envs/transparency/lib/python3.10/ssl.py?line=1338'>1339</a>\u001b[0m     \u001b[39mif\u001b[39;00m timeout \u001b[39m==\u001b[39m \u001b[39m0.0\u001b[39m \u001b[39mand\u001b[39;00m block:\n\u001b[1;32m   <a href='file:///Users/emmanuel/opt/anaconda3/envs/transparency/lib/python3.10/ssl.py?line=1339'>1340</a>\u001b[0m         \u001b[39mself\u001b[39m\u001b[39m.\u001b[39msettimeout(\u001b[39mNone\u001b[39;00m)\n\u001b[0;32m-> <a href='file:///Users/emmanuel/opt/anaconda3/envs/transparency/lib/python3.10/ssl.py?line=1340'>1341</a>\u001b[0m     \u001b[39mself\u001b[39;49m\u001b[39m.\u001b[39;49m_sslobj\u001b[39m.\u001b[39;49mdo_handshake()\n\u001b[1;32m   <a href='file:///Users/emmanuel/opt/anaconda3/envs/transparency/lib/python3.10/ssl.py?line=1341'>1342</a>\u001b[0m \u001b[39mfinally\u001b[39;00m:\n\u001b[1;32m   <a href='file:///Users/emmanuel/opt/anaconda3/envs/transparency/lib/python3.10/ssl.py?line=1342'>1343</a>\u001b[0m     \u001b[39mself\u001b[39m\u001b[39m.\u001b[39msettimeout(timeout)\n",
      "\u001b[0;31mKeyboardInterrupt\u001b[0m: "
     ]
    }
   ],
   "source": [
    "data=[]\n",
    "\n",
    "for i in newlist:\n",
    "    k=serpapi_get_naver_organic_results(i) # look at organic thing\n",
    "    print(type(k))\n",
    "    \n",
    "    try:\n",
    "        if k['search_information']['organic_results_state']!='Fully empty':        \n",
    "            \n",
    "            results=k['organic_results'][0]['title']\n",
    "            print(results)\n",
    "            data.append(results)\n",
    "\n",
    "        else:\n",
    "            data.append('')\n",
    "    except Exception:\n",
    "        data.append('')"
   ]
  },
  {
   "cell_type": "code",
   "execution_count": 19,
   "metadata": {},
   "outputs": [],
   "source": [
    "def nlptest(a, b):\n",
    "    '''\n",
    "    nlp test for the distance between two sentences. Outputs False if the similarity is lower than 85% according to this method\n",
    "    '''\n",
    "    doc1 = nlp(a)\n",
    "    doc2 = nlp(b)\n",
    "\n",
    "    if doc1.similarity(doc2) < 0.85:\n",
    "        return False\n",
    "    else: \n",
    "        return True"
   ]
  },
  {
   "cell_type": "code",
   "execution_count": 24,
   "metadata": {},
   "outputs": [
    {
     "name": "stdout",
     "output_type": "stream",
     "text": [
      "Acceptance & Commitment Therapy for ME/CFS (Chronic Fatigue Syndrome) - an Open Case Trial / Acceptance & commitment therapy for ME/CFS (chronic fatigue syndrome)–a feasibility study\n",
      "Cognitive Behavioral Therapy for Adolescents With Excessive Worry - a Case Series / Cognitive-behavioral treatment of generalized anxiety disorder among adolescents: A case series\n",
      "The Effects of COX-inhibiting Drugs on Skeletal Muscle Adaptations to Resistance Exercise / Effects of prostaglandins and COX-inhibiting drugs on skeletal muscle adaptations to exercise\n",
      "Selective Prevention of Anxiety Disorders in Children: A Randomized Controlled Preliminary Study of a Parent Training Intervention for Anxious Parents / … following cognitive-behavioral treatment of children with anxiety problems: A preliminary investigation on negative automatic thoughts and anxiety control\n",
      "Effects of Yoga on Objective and Self-reported Health Indicators Among Female and Male Individuals / Self-reported benefits and risks of yoga in individuals with bipolar disorder\n",
      "Guided Internet-treatment for Insomnia. Treatment Effects, Health Economics and Interaction With Depression / Netmums: a phase II randomized controlled trial of a guided Internet behavioural activation treatment for postpartum depression\n",
      "Passive Leg Raise Induced Stroke Volume Changes in Elderly Prior to Elective Surgery Measured by LiDCOplusTM to Guide Fluid Therapy / The role of cardiac output and fluid responsive measurements in improving outcomes after major abdominal surgery in adults\n",
      "Effects of Standardized Meals With Different Compositions of Fat, Protein and Carbohydrate on the Metabolic, Hormonal and Inflammatory Responses in Human / … of a dairy fraction rich in milk fat globule membrane to a high-saturated fat meal reduces the postprandial insulinaemic and inflammatory response in overweight and …\n",
      "PhONEME - ParticipatOn Ehealth MobilE. Effects of an Interactive ICT-platform for Assessment and Management of Symptoms in Patients Treated for Breast Cancer. / \n",
      "Metabolic and Hormonal Effects of 5:2 Intermittent Fasting in Patients With Type 2 Diabetes and Subjects With Adiposity / Intermittent fasting and 'metabolic switch': Effects on metabolic syndrome, prediabetes and type 2 diabetes\n",
      "Subjective and Objective Effects After Yogic Exercises / Effect of yogic practices on subjective well being\n",
      "The Role of Transpapillary Stenting in the Treatment of Bile Leakage After Liver Transection. / Fully covered self-expandable metallic stents in the management of complex biliary leaks: preliminary data–a case series\n",
      "Pre-treatment With Mifepristone in Patients With Mirena for Optimizing Bleeding Pattern in Pre-menopausal Women / Uterine fibroids: current perspectives\n",
      "Phase I/II Study of Lenalidomide and Gemcitabine as First-line Treatment in Patients With Locally Advanced or Metastatic Pancreatic Cancer / A phase I dose-escalation study of lenalidomide in combination with gemcitabine in patients with advanced pancreatic cancer\n",
      "Mesenchymal Stem Cells for Progressive Multiple Sclerosis_Sweden / \n",
      "Undersökning av ny Behandlingsmetod Vid migränanfall / Magnesiumbehandling vid migrän: En litteraturstudie om magnesium som förebyggande och anfallskuperande behandling vid migrän\n",
      "Metabolism in Adipose Tissue Followed Following Sprint Exercise / Subcutaneous adipose tissue sclerostin is reduced and Wnt signaling is enhanced following 4‐weeks of sprint interval training in young men with obesity\n",
      "Open Label Adaptive Design Study To Evaluate D1 Receptor Occupancy (ro) Following Single Dose Of Pf-06412562, Using Positron Emission Tomography (Pet) With Ligand [11c]sch23390 In Healthy Male Subjects / \n",
      "A Phase 1, Open-label Adaptive Design Study To Evaluate Pde10 Enzyme Occupancy As Measured By Positron Emission Tomography (Pet) Following Single Oral Dose Administration Of Pf-02545920 In Healthy Male Subjects / In vivo measurement of PDE10A enzyme occupancy by positron emission tomography (PET) following single oral dose administration of PF-02545920 in healthy male …\n",
      "The Swedish Versions of ADOS and ADI-R: Psychometric Validation / The Swedish version of the diagnostic interview for social and communication disorders (DISCO-10). Psychometric properties\n",
      "Waterjet Versus Ultrasound Dissection During Hepatic Transection / Hepatic resection using a water jet dissector\n",
      "Screening and Brief Intervention Via IVR for Problematic Use of Alcohol: A Randomized Controlled Trial / Older patients with at-risk and problem drinking patterns: New developments in brief interventions\n",
      "Early Postoperative Extracorporal Liver Support Therapy (ELS) as a Tool to Manage Post Hepatectomy Liver Failure (PLF) / Liver Resection for Hepatocellular Carcinoma\n",
      "C49:Clinical Survey of Different Abutment Topologies Installed With a Minimally Invasive Surgery for Bone Anchored Hearing Systems / \n",
      "Safety of Fluconazole Treatment of Premature and Full-term Newborn Infants - A Study on Interactions by Nonsteroidal Anti Inflammatory Drugs (NSAIDs) With Fluconazole in Respect of Pharmacodynamic Endpoints With Urinary Excretion of Vasoactive Endobiotics / \n",
      "Emotion Regulation Group Therapy (ERGT) for Women Engaging in Non-suicidal Self-Injury (NSSI) - an Effectiveness Study / Non-suicidal self-injury within offender populations: A systematic review\n",
      "Single-center Randomized Controlled Trial of Cardiac Function After Minimally Invasive Aortic Valve Implantation (CMILE) / … mechanics and contractility after aortic valve replacement surgery: a randomised study comparing minimally invasive versus conventional approach\n",
      "Evaluation of the STOP-BANG Screening Questionnaire in a Sleep Clinic / … of the STOP-Bang questionnaire as a screening tool for obstructive sleep apnea among different populations: a systematic review and meta-analysis\n",
      "Prophylactic Probiotics to Extremely Low Birth Weight Prematures / Effects of probiotic lactobacillus reuteri (DSM 17938) on the incidence of necrotizing enterocolitis in very low birth weight premature infants\n"
     ]
    },
    {
     "name": "stderr",
     "output_type": "stream",
     "text": [
      "/var/folders/wx/sx67klw51p99ypb39mtcwx_00000gn/T/ipykernel_38563/2510746194.py:8: UserWarning: [W008] Evaluating Doc.similarity based on empty vectors.\n",
      "  if doc1.similarity(doc2) < 0.85:\n"
     ]
    }
   ],
   "source": [
    "sameorno=[]\n",
    "\n",
    "for i in newlist[:len(data)]:\n",
    "    idx=newlist.index(i)\n",
    "    lol=(nlptest(i,data[idx]))\n",
    "    sameorno.append(lol)\n",
    "    print(i + ' / '+ data[idx])\n"
   ]
  },
  {
   "cell_type": "code",
   "execution_count": 29,
   "metadata": {},
   "outputs": [],
   "source": [
    "dfs=pd.DataFrame({'CT.gov name':newlist[:len(data)], 'Title in Google Scholar':data, 'Same?':testor})"
   ]
  },
  {
   "cell_type": "code",
   "execution_count": null,
   "metadata": {},
   "outputs": [],
   "source": [
    "# check that it's an actual publication if that's extractable"
   ]
  },
  {
   "cell_type": "code",
   "execution_count": 33,
   "metadata": {},
   "outputs": [
    {
     "data": {
      "text/plain": [
       "True     62.0\n",
       "False    38.0\n",
       "Name: Same?, dtype: float64"
      ]
     },
     "execution_count": 33,
     "metadata": {},
     "output_type": "execute_result"
    }
   ],
   "source": [
    "round(dfs['Same?'].value_counts()/len(dfs) *100,0)"
   ]
  }
 ],
 "metadata": {
  "interpreter": {
   "hash": "545e036c4b32438aced1f6b3c8d38ca151d9c36189e05839cb0aa568fda70ddd"
  },
  "kernelspec": {
   "display_name": "Python ('transparency')",
   "language": "python",
   "name": "python3"
  },
  "language_info": {
   "codemirror_mode": {
    "name": "ipython",
    "version": 3
   },
   "file_extension": ".py",
   "mimetype": "text/x-python",
   "name": "python",
   "nbconvert_exporter": "python",
   "pygments_lexer": "ipython3",
   "version": "3.10.4"
  },
  "orig_nbformat": 4
 },
 "nbformat": 4,
 "nbformat_minor": 2
}
